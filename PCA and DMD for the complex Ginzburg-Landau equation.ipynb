{
 "cells": [
  {
   "cell_type": "markdown",
   "metadata": {},
   "source": [
    "# PCA and DMD for the complex Ginzburg-Landau equation\n",
    "\n",
    "## Arnold D. Kim\n",
    "*Department of Applied Mathematics, University of California, Merced*"
   ]
  },
  {
   "cell_type": "code",
   "execution_count": 1,
   "metadata": {},
   "outputs": [
    {
     "name": "stdout",
     "output_type": "stream",
     "text": [
      "Last updated: 22/09/2019\n"
     ]
    }
   ],
   "source": [
    "import  time\n",
    "print( 'Last updated: %s' %time.strftime('%d/%m/%Y') )"
   ]
  },
  {
   "cell_type": "code",
   "execution_count": 2,
   "metadata": {},
   "outputs": [],
   "source": [
    "%matplotlib qt"
   ]
  },
  {
   "cell_type": "code",
   "execution_count": 3,
   "metadata": {},
   "outputs": [],
   "source": [
    "# defaults for the codes below\n",
    "\n",
    "import numpy as np\n",
    "import matplotlib.pyplot as plt\n",
    "from mpl_toolkits import mplot3d"
   ]
  },
  {
   "cell_type": "markdown",
   "metadata": {},
   "source": [
    "## Description\n",
    "\n",
    "We seek to apply principal component analysis (PCA) and dynamic mode decomposition (DMD) to time series data corresponding to the numerical solution of the complex Ginzburg-Landau equation,\n",
    "\\begin{equation}\n",
    "   u_{t} = q^{2} ( \\mathrm{i} + c_{0} ) u_{xx} + \\rho u + ( \\mathrm{i} - \\rho ) u |u|^{2}.\n",
    "\\end{equation}\n",
    "This spatio-temporal system exhibits diffusion, dispersion, linear growth, and nonlinearity. Consequently, it has a rich set of complex dynamics.\n",
    "\n",
    "We first compute the numerical solution to an initial-boundary value problem for the complex Ginzburg-Landau equation with periodic boundary conditions in a chaotic regime. We collect that data and use it as an example time series. We then apply PCA to that time series to reveal its low-dimensional structure. Then we apply DMD to also reveal its low-dimensional structure and to characterize its dynamics."
   ]
  },
  {
   "cell_type": "markdown",
   "metadata": {},
   "source": [
    "## Numerical solution of the complex Ginzburg-Landau equation\n",
    "\n",
    "To compute the numerical solution of the complex Ginzburg-Landau equation, we write it as\n",
    "\\begin{equation}\n",
    "   u_{t} = L_{1}[u] + L_{2}[u],\n",
    "\\end{equation}\n",
    "with $L_{1}$ denoting the linear operator,\n",
    "\\begin{equation}\n",
    "   L_{1}[u] = q^{2} ( \\mathrm{i} + c_{0} ) u_{xx} + \\rho u,\n",
    "\\end{equation}\n",
    "and $L_{2}$ denoting the nonlinear operator\n",
    "\\begin{equation}\n",
    "   L_{2}[u] = ( \\mathrm{i} - \\rho ) u | u |^{2}.\n",
    "\\end{equation}\n",
    "\n",
    "We use Strang splitting to compute the numerical solution, which is given as follows.\n",
    "\n",
    "1. Solve the linear equation, $u_{t} = q^{2} ( \\mathrm{i} + c_{0} ) u_{xx} + \\rho u$ over a half time step, $\\Delta t/2$, using a Fourier spectral method using the present value as the initial data.\n",
    "\n",
    "2. Solve the nonlinear equation $u_{t} = ( \\mathrm{i} - \\rho ) u |u|^{2}$ over a full time step, $\\Delta t$, using a second-order Runge-Kutta method using the result from Step 1 as the initial data.\n",
    "\n",
    "3. Solve the linear equation, $u_{t} = q^{2} ( \\mathrm{i} + c_{0} ) u_{xx} + \\rho u$ over a half time step, $\\Delta t/2$, using a Fourier spectral method using the result from Step 2 as the initial data.\n",
    "\n",
    "The code below implements this method and collects the resulting numerical solution as an $M \\times N$ matrix where $M$ is the number of spatial grid points and $N$ is the number of time steps."
   ]
  },
  {
   "cell_type": "code",
   "execution_count": 4,
   "metadata": {},
   "outputs": [],
   "source": [
    "# numerical solution of the complex Ginzburg-Landau equation\n",
    "\n",
    "# set the parameter values\n",
    "\n",
    "c0 = 0.25\n",
    "ρ  = 0.25\n",
    "q  = 0.95\n",
    "\n",
    "# compute the spatial grid\n",
    "\n",
    "M  = 1000\n",
    "Δx = 2 * np.pi / M\n",
    "x  = np.arange( M ) * Δx\n",
    "\n",
    "# compute the spectral wavenumbers\n",
    "\n",
    "xk = np.fft.fftfreq( M, 1/M )\n",
    "\n",
    "# set the time step\n",
    "\n",
    "Δt = 0.05\n",
    "\n",
    "# compute the forward propagator for the linear operator at half a time step\n",
    "\n",
    "L1 = np.exp( ( ρ - xk**2 * q**2 * ( 1j + c0 ) ) * Δt / 2 )\n",
    "\n",
    "# set the number of time steps\n",
    "\n",
    "N = 10000\n",
    "\n",
    "# allocate memory for the solution data\n",
    "\n",
    "U = np.full( ( M, N ), 'nan', dtype = 'complex' )\n",
    "\n",
    "# set the initial condition\n",
    "\n",
    "U[:,0] = 1 + 0.02 * np.cos( x )\n",
    "\n",
    "# loop over remaining time steps\n",
    "\n",
    "for it in range( 1, N ):\n",
    "    \n",
    "    # first Strang-splitting step (linear)\n",
    "    \n",
    "    V1 = np.fft.ifft( L1 * np.fft.fft( U[:,it-1] ) )\n",
    "    \n",
    "    # second Strang-splitting step (nonlinear)\n",
    "    \n",
    "    k1   = Δt * ( 1j - ρ ) * V1 * np.abs( V1 ) ** 2\n",
    "    Vtmp = V1 + 0.5 * k1\n",
    "    V2   = V1 + Δt * ( 1j - ρ ) * Vtmp * np.abs( Vtmp ) ** 2\n",
    "    \n",
    "    # third Strang-splitting step (linear)\n",
    "    \n",
    "    U[:,it] = np.fft.ifft( L1 * np.fft.fft( V2 ) )"
   ]
  },
  {
   "cell_type": "code",
   "execution_count": 5,
   "metadata": {},
   "outputs": [],
   "source": [
    "# plot the real part of the solution\n",
    "\n",
    "fig = plt.figure()\n",
    "ax  = fig.add_subplot(111, projection='3d')\n",
    "\n",
    "# set the figure size\n",
    "\n",
    "plt.rcParams['figure.figsize'] = [12,8]\n",
    "\n",
    "# create a meshgrid for plotting\n",
    "\n",
    "[ Tplot, Xplot ] = np.meshgrid( np.arange(N) * Δt, x )\n",
    "\n",
    "# plot the solution as a surface\n",
    "\n",
    "ax.plot_surface( Tplot, Xplot, np.real(U), rstride=1, cstride=10, cmap = 'viridis' )\n",
    "ax.view_init( 40, 210 )\n",
    "\n",
    "plt.show()"
   ]
  },
  {
   "cell_type": "markdown",
   "metadata": {},
   "source": [
    "## Prepare the data for analysis\n",
    "\n",
    "In the code that follows, we take a portion of the computed solution as the data to analyze using PCA and DMD."
   ]
  },
  {
   "cell_type": "code",
   "execution_count": 14,
   "metadata": {},
   "outputs": [
    {
     "name": "stdout",
     "output_type": "stream",
     "text": [
      "(1000, 200)\n"
     ]
    }
   ],
   "source": [
    "# prepare the data\n",
    "\n",
    "index = 200\n",
    "xdata = x\n",
    "tdata = np.arange( N-index, N ) * Δt\n",
    "Data  = U[:,N-index:N]\n",
    "\n",
    "print(Data.shape)\n",
    "\n",
    "np.save('cgle-1000x200.npy',Data)"
   ]
  },
  {
   "cell_type": "markdown",
   "metadata": {},
   "source": [
    "## Principal component analysis (PCA)\n",
    "\n",
    "We now perform PCA on the data using the singular value decomposition."
   ]
  },
  {
   "cell_type": "code",
   "execution_count": 8,
   "metadata": {},
   "outputs": [],
   "source": [
    "# compute the singular-value decomposition of the data\n",
    "\n",
    "U_PCA, σ_PCA, VH_PCA = np.linalg.svd( Data )\n",
    "\n",
    "# compute the \"energy\"\n",
    "\n",
    "E = σ_PCA ** 2 / np.sum( σ_PCA ** 2 )\n",
    "\n",
    "# plot the energy\n",
    "\n",
    "plt.rcParams['figure.figsize'] = [12,6]\n",
    "\n",
    "plt.subplot(1,2,1)\n",
    "plt.plot( E, 'o' )\n",
    "plt.ylabel( 'energy' )\n",
    "\n",
    "plt.subplot(1,2,2)\n",
    "plt.plot( np.cumsum( E ), 'o' )\n",
    "plt.ylabel( 'cumulative sum of energy' )\n",
    "\n",
    "plt.show()"
   ]
  },
  {
   "cell_type": "code",
   "execution_count": 9,
   "metadata": {},
   "outputs": [],
   "source": [
    "# set the dimension reduction\n",
    "\n",
    "k = 2\n",
    "\n",
    "σ_tilde = σ_PCA[0:k]\n",
    "\n",
    "# form the PCA reconstruction of the data\n",
    "\n",
    "Data_PCA = U_PCA[:,:k] @ np.diag( σ_tilde ) @ VH_PCA[:k,:]"
   ]
  },
  {
   "cell_type": "markdown",
   "metadata": {},
   "source": [
    "## Dynamic mode decomposition (DMD)\n",
    "\n",
    "We now perform DMD on the data using the singular value decomposition."
   ]
  },
  {
   "cell_type": "code",
   "execution_count": 10,
   "metadata": {},
   "outputs": [],
   "source": [
    "# define the X1 and X2 matrices\n",
    "\n",
    "X1 = Data[:,:index-1]\n",
    "X2 = Data[:,1:index]\n",
    "\n",
    "# compute the singular-value decomposition of the X1 matrix\n",
    "\n",
    "U_DMD, σ_DMD, VH_DMD = np.linalg.svd( X1 )\n",
    "\n",
    "# truncate the SVD consistent with what was used for PCA\n",
    "\n",
    "U_k  = U_DMD[:,:k]\n",
    "σ_k  = σ_DMD[:k]\n",
    "V_k = VH_DMD[:k,:].conj().T\n",
    "\n",
    "# compute the DMD system matrix\n",
    "\n",
    "A_DMD = U_k.conj().T @ X2 @ V_k @ np.diag( 1 / σ_k )\n",
    "\n",
    "# compute the spectrum of the DMD system matrix\n",
    "\n",
    "λ, W = np.linalg.eig( A_DMD )\n",
    "\n",
    "# compute the continuous time frequencies (add 0*1j to ensure it is treated as a complex number)\n",
    "\n",
    "ω = np.log( λ + 1j * 0 ) / Δt\n",
    "\n",
    "# compute the Φ matrix\n",
    "\n",
    "Φ = X2 @ V_k @ np.diag( 1 / σ_k ) @ W\n",
    "\n",
    "# compute the DMD mode amplitudes b\n",
    "\n",
    "b, residuals, rank, s = np.linalg.lstsq( Φ, X1[:,0], rcond = None )\n",
    "\n",
    "# form the DMD reconstruction of the data\n",
    "\n",
    "Dr = np.full( ( k, index ), 'nan', dtype = 'complex' )\n",
    "\n",
    "for i in range( index ):\n",
    "    \n",
    "    Dr[:,i] = b * np.exp( ω * ( tdata[i] - tdata[0] ) )\n",
    "\n",
    "Data_DMD = Φ @ Dr"
   ]
  },
  {
   "cell_type": "markdown",
   "metadata": {},
   "source": [
    "## Compare the reconstructions\n",
    "\n",
    "Below, we plot the reconstructions of the time series."
   ]
  },
  {
   "cell_type": "code",
   "execution_count": 11,
   "metadata": {},
   "outputs": [],
   "source": [
    "# plot the reconstructions of the spatio-temporal dynamics\n",
    "\n",
    "fig = plt.figure()\n",
    "ax1 = fig.add_subplot(1, 3, 1, projection='3d')\n",
    "ax2 = fig.add_subplot(1, 3, 2, projection='3d')\n",
    "ax3 = fig.add_subplot(1, 3, 3, projection='3d')\n",
    "\n",
    "# set the figure size\n",
    "\n",
    "plt.rcParams['figure.figsize'] = [20,8]\n",
    "\n",
    "# create a meshgrid for plotting\n",
    "\n",
    "[ Tdata, Xdata ] = np.meshgrid( tdata, xdata )\n",
    "\n",
    "# plot the solution as a surface\n",
    "\n",
    "ax1.plot_surface( Tdata, Xdata, np.real(Data), rstride=1, cstride=10, cmap = 'viridis' )\n",
    "ax1.view_init( 40, 210 )\n",
    "ax1.set_xlabel( r'$t$', fontsize = 14 )\n",
    "ax1.set_ylabel( r'$x$', fontsize = 14 )\n",
    "ax1.set_title( 'time series', fontsize = 14 )\n",
    "\n",
    "ax2.plot_surface( Tdata, Xdata, np.real(Data_PCA), rstride=1, cstride=10, cmap = 'viridis' )\n",
    "ax2.view_init( 40, 210 )\n",
    "ax2.set_xlabel( r'$t$', fontsize = 14 )\n",
    "ax2.set_ylabel( r'$x$', fontsize = 14 )\n",
    "ax2.set_title( 'PCA reconstruction', fontsize = 14 )\n",
    "\n",
    "ax3.plot_surface( Tdata, Xdata, np.real(Data_DMD), rstride=1, cstride=10, cmap = 'viridis' )\n",
    "ax3.view_init( 40, 210 )\n",
    "ax3.set_xlabel( r'$t$', fontsize = 14 )\n",
    "ax3.set_ylabel( r'$x$', fontsize = 14 )\n",
    "ax3.set_title( 'DMD reconstruction', fontsize = 14 )\n",
    "\n",
    "plt.show()"
   ]
  },
  {
   "cell_type": "code",
   "execution_count": 12,
   "metadata": {},
   "outputs": [],
   "source": [
    "# plot the reconstruction of the time series at a fixed value of x\n",
    "\n",
    "# set the value of x to be plotted\n",
    "\n",
    "xndx = 0\n",
    "\n",
    "# plot the time series and its PCA and DMD reconstructions\n",
    "\n",
    "plt.rcParams['figure.figsize'] = [10,6]\n",
    "\n",
    "plt.plot( tdata, np.real(Data[xndx,:]), tdata, np.real(Data_PCA[xndx,:]), '--', tdata, np.real(Data_DMD[xndx,:]), '-.' )\n",
    "plt.xlabel( r'$t$', fontsize = 14 )\n",
    "plt.ylabel( r'$u(x=0,t)$', fontsize = 14  )\n",
    "plt.legend( ( 'time series', 'PCA', 'DMD' ), fontsize = 14  )\n",
    "plt.show()"
   ]
  },
  {
   "cell_type": "code",
   "execution_count": null,
   "metadata": {},
   "outputs": [],
   "source": []
  }
 ],
 "metadata": {
  "kernelspec": {
   "display_name": "Python 3",
   "language": "python",
   "name": "python3"
  },
  "language_info": {
   "codemirror_mode": {
    "name": "ipython",
    "version": 3
   },
   "file_extension": ".py",
   "mimetype": "text/x-python",
   "name": "python",
   "nbconvert_exporter": "python",
   "pygments_lexer": "ipython3",
   "version": "3.6.8"
  }
 },
 "nbformat": 4,
 "nbformat_minor": 2
}
